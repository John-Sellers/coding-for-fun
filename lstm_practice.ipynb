{
  "nbformat": 4,
  "nbformat_minor": 0,
  "metadata": {
    "colab": {
      "provenance": [],
      "authorship_tag": "ABX9TyOoCu9WgY2tG0Z046hPRVAK"
    },
    "kernelspec": {
      "name": "python3",
      "display_name": "Python 3"
    },
    "language_info": {
      "name": "python"
    }
  },
  "cells": [
    {
      "cell_type": "code",
      "execution_count": 20,
      "metadata": {
        "id": "bTCE-zVOz_jL"
      },
      "outputs": [],
      "source": [
        "import tensorflow as tf\n",
        "from tensorflow import keras\n",
        "from tensorflow.keras.preprocessing.text import Tokenizer\n",
        "from tensorflow.keras.preprocessing.sequence import pad_sequences"
      ]
    },
    {
      "cell_type": "code",
      "source": [
        "sentences = [\n",
        "    \"I love my dog\",\n",
        "    \"I love my cat\",\n",
        "    \"You love my dog!\",\n",
        "    \"Do you think my dog is amazing?\"\n",
        "]"
      ],
      "metadata": {
        "id": "snHny3p01U-X"
      },
      "execution_count": 21,
      "outputs": []
    },
    {
      "cell_type": "code",
      "source": [
        "tokenizer = Tokenizer(num_words=100, oov_token=\"<OOV>\")\n",
        "tokenizer.fit_on_texts(sentences)\n",
        "word_index = tokenizer.word_index\n",
        "word_index"
      ],
      "metadata": {
        "colab": {
          "base_uri": "https://localhost:8080/"
        },
        "id": "DE_PRsWv1ePB",
        "outputId": "5c731acb-c56d-4b66-8219-a89bccfc4ba4"
      },
      "execution_count": 22,
      "outputs": [
        {
          "output_type": "execute_result",
          "data": {
            "text/plain": [
              "{'<OOV>': 1,\n",
              " 'my': 2,\n",
              " 'love': 3,\n",
              " 'dog': 4,\n",
              " 'i': 5,\n",
              " 'you': 6,\n",
              " 'cat': 7,\n",
              " 'do': 8,\n",
              " 'think': 9,\n",
              " 'is': 10,\n",
              " 'amazing': 11}"
            ]
          },
          "metadata": {},
          "execution_count": 22
        }
      ]
    },
    {
      "cell_type": "code",
      "source": [
        "sequences = tokenizer.texts_to_sequences(sentences)\n",
        "sequences"
      ],
      "metadata": {
        "colab": {
          "base_uri": "https://localhost:8080/"
        },
        "id": "PFTZUuhn2Uld",
        "outputId": "a7028f82-84d3-46b3-a277-664c081932d3"
      },
      "execution_count": 23,
      "outputs": [
        {
          "output_type": "execute_result",
          "data": {
            "text/plain": [
              "[[5, 3, 2, 4], [5, 3, 2, 7], [6, 3, 2, 4], [8, 6, 9, 2, 4, 10, 11]]"
            ]
          },
          "metadata": {},
          "execution_count": 23
        }
      ]
    },
    {
      "cell_type": "code",
      "source": [
        "padded = pad_sequences(sequences)\n",
        "padded"
      ],
      "metadata": {
        "colab": {
          "base_uri": "https://localhost:8080/"
        },
        "id": "5H7ZG1HG3tS0",
        "outputId": "fbc13cb9-6e29-4315-acc6-d36b874f5bc0"
      },
      "execution_count": 25,
      "outputs": [
        {
          "output_type": "execute_result",
          "data": {
            "text/plain": [
              "array([[ 0,  0,  0,  5,  3,  2,  4],\n",
              "       [ 0,  0,  0,  5,  3,  2,  7],\n",
              "       [ 0,  0,  0,  6,  3,  2,  4],\n",
              "       [ 8,  6,  9,  2,  4, 10, 11]], dtype=int32)"
            ]
          },
          "metadata": {},
          "execution_count": 25
        }
      ]
    },
    {
      "cell_type": "code",
      "source": [
        "test_data = [\n",
        "    \"I really love my dog\",\n",
        "    \"My dog loves to eat chicken\"\n",
        "]"
      ],
      "metadata": {
        "id": "mTCeWbcZ2u1H"
      },
      "execution_count": 26,
      "outputs": []
    },
    {
      "cell_type": "code",
      "source": [
        "test_seq = tokenizer.texts_to_sequences(test_data)\n",
        "test_seq"
      ],
      "metadata": {
        "colab": {
          "base_uri": "https://localhost:8080/"
        },
        "id": "xiC5gZ6y23dP",
        "outputId": "c6e150bb-40be-4623-d5ba-26cd0000fbb0"
      },
      "execution_count": 27,
      "outputs": [
        {
          "output_type": "execute_result",
          "data": {
            "text/plain": [
              "[[5, 1, 3, 2, 4], [2, 4, 1, 1, 1, 1]]"
            ]
          },
          "metadata": {},
          "execution_count": 27
        }
      ]
    }
  ]
}