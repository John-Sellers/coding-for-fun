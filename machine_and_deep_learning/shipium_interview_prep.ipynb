{
 "cells": [
  {
   "cell_type": "markdown",
   "metadata": {},
   "source": [
    "# **Interview Prep**\n",
    "#### The following python code will be practice for my interview with Shipium. I am giving\n",
    "#### myself 30 minutes to complete a basic deep neural network using TensorFlow and using \n",
    "#### some assistance from the library documentation"
   ]
  },
  {
   "cell_type": "code",
   "execution_count": null,
   "metadata": {},
   "outputs": [],
   "source": [
    "import tensorflow as tf\n",
    "import pandas as pd\n",
    "import numpy as np\n",
    "import seaborn as sns\n",
    "import matplotlib.pyplot as plt\n",
    "from sklearn.model_selection import train_test_split\n",
    "from sklearn.preprocessing import LabelEncoder, MinMaxScaler"
   ]
  },
  {
   "cell_type": "code",
   "execution_count": null,
   "metadata": {},
   "outputs": [],
   "source": [
    "df = pd.read_csv(r\"c:\\Users\\selle\\Downloads\\shipping.csv\")\n",
    "df"
   ]
  },
  {
   "cell_type": "code",
   "execution_count": null,
   "metadata": {},
   "outputs": [],
   "source": [
    "# Renaming the Reached.on.Time_Y.N to be more readable\n",
    "df.rename(columns={\"Reached.on.Time_Y.N\":\"on_time\"}, inplace=True)\n",
    "\n",
    "# Lowercase all column names\n",
    "df = df.rename(columns={col: col.lower() for col in df.columns})"
   ]
  },
  {
   "cell_type": "code",
   "execution_count": null,
   "metadata": {},
   "outputs": [],
   "source": [
    "df.head()"
   ]
  },
  {
   "cell_type": "code",
   "execution_count": null,
   "metadata": {},
   "outputs": [],
   "source": [
    "# Printing unique values for each field in the dataframe to get a better\n",
    "# understanding of the data that we are working with\n",
    "for column in df.columns:\n",
    "    unique_values = df[column].nunique()\n",
    "    print(f\"Unique values in {column}: {unique_values}\")"
   ]
  },
  {
   "cell_type": "code",
   "execution_count": null,
   "metadata": {},
   "outputs": [],
   "source": [
    "# Checking for null values. If null values are found then we will work to\n",
    "# fill/replace/drop them\n",
    "df.isnull().sum()"
   ]
  },
  {
   "cell_type": "code",
   "execution_count": null,
   "metadata": {},
   "outputs": [],
   "source": [
    "# Plot multiple histograms side by side\n",
    "plt.figure(figsize=(10, 5))  # Adjust the figure size as needed\n",
    "\n",
    "# Plot multiple histograms side by side in two rows and two columns\n",
    "for i, column in enumerate(df.select_dtypes(exclude=np.number)):\n",
    "    plt.subplot(2, 2, i+1)  # Create subplot for each column\n",
    "    plt.xlabel(xlabel=f\"{column}\")\n",
    "    sns.histplot(df[column])  # Plot histogram using Seaborn\n",
    "\n",
    "plt.tight_layout(pad=3.0)  # Adjust subplot layout to prevent overlap\n",
    "plt.show()"
   ]
  },
  {
   "cell_type": "code",
   "execution_count": null,
   "metadata": {},
   "outputs": [],
   "source": [
    "# Plot multiple histograms side by side\n",
    "plt.figure(figsize=(15, 6))  # Adjust the figure size as needed\n",
    "\n",
    "# Plot multiple histograms side by side in two rows and two columns\n",
    "for i, column in enumerate(df.select_dtypes(include=np.number)):\n",
    "    plt.subplot(3, 3, i+1)  # Create subplot for each column\n",
    "    plt.xlabel(xlabel=f\"{column}\")\n",
    "    sns.histplot(df[column])  # Plot histogram using Seaborn\n",
    "\n",
    "plt.tight_layout(pad=3.0)  # Adjust subplot layout to prevent overlap\n",
    "plt.show()"
   ]
  },
  {
   "cell_type": "code",
   "execution_count": null,
   "metadata": {},
   "outputs": [],
   "source": [
    "# Initialize MinMaxScaler\n",
    "scaler = MinMaxScaler()\n",
    "\n",
    "# Separate numerical and non-numerical features\n",
    "numerical_features = df.select_dtypes(include=np.number).columns\n",
    "\n",
    "# Normalize numerical features only\n",
    "df[numerical_features] = scaler.fit_transform(df[numerical_features])\n",
    "\n",
    "df"
   ]
  },
  {
   "cell_type": "code",
   "execution_count": null,
   "metadata": {},
   "outputs": [],
   "source": [
    "# Select non-numerical features\n",
    "non_numerical_features = df.select_dtypes(exclude=['float64', 'int64']).columns\n",
    "\n",
    "# Initialize LabelEncoder\n",
    "label_encoder = LabelEncoder()\n",
    "\n",
    "# Label encode non-numerical features\n",
    "for feature in non_numerical_features:\n",
    "    df[feature] = label_encoder.fit_transform(df[feature])\n",
    "\n",
    "df"
   ]
  },
  {
   "cell_type": "code",
   "execution_count": null,
   "metadata": {},
   "outputs": [],
   "source": [
    "# Calculate correlation matrix to check for linearity between all variables\n",
    "correlation_matrix = df.corr()\n",
    "\n",
    "# Creating a mask to hide the upper half of the matrix since it is the mirrored\n",
    "# values of the bottom half\n",
    "mask = np.triu(np.ones_like(correlation_matrix, dtype=bool))\n",
    "\n",
    "# Plot correlation matrix as a heatmap\n",
    "plt.figure(figsize=(8, 6))  # Set the figure size\n",
    "sns.heatmap(correlation_matrix, annot=True, cmap='coolwarm', fmt=\".2f\", mask=mask)  # Plot heatmap with annotations\n",
    "plt.title('Correlation Matrix')  # Add title\n",
    "plt.show()"
   ]
  },
  {
   "cell_type": "code",
   "execution_count": null,
   "metadata": {},
   "outputs": [],
   "source": [
    "# Calculate Spearman correlation matrix so that we can test for non-linear correlations\n",
    "spearman_corr_matrix = df.corr(method='spearman')\n",
    "\n",
    "# Plot Spearman correlation matrix as a heatmap\n",
    "plt.figure(figsize=(8, 6))\n",
    "sns.heatmap(spearman_corr_matrix, annot=True, cmap='coolwarm', fmt=\".2f\", mask=mask)\n",
    "plt.title('Spearman Correlation Matrix')\n",
    "plt.show()"
   ]
  },
  {
   "cell_type": "code",
   "execution_count": null,
   "metadata": {},
   "outputs": [],
   "source": [
    "# numerical_features = df.select_dtypes(include=np.number).columns\n",
    "sns.pairplot(df[['on_time', \"discount_offered\"]])\n",
    "plt.show()"
   ]
  },
  {
   "cell_type": "code",
   "execution_count": null,
   "metadata": {},
   "outputs": [],
   "source": [
    "# Creating y and X variable to store the label and feature(s) to\n",
    "# later split into training, validation, and testing sets\n",
    "X = df.drop([\"on_time\"], axis=1)\n",
    "y = df[\"on_time\"]\n",
    "\n",
    "# We will now split the data into two sets being training and remaining\n",
    "X_train, X_rem, y_train, y_rem = train_test_split(X, y, train_size=0.7, random_state=0, stratify=df[\"on_time\"])\n",
    "\n",
    "# Now we split the remaining set into two sets being the validation and testing\n",
    "X_val, X_test, y_val, y_test = train_test_split(X, y, test_size=0.5, random_state=0, stratify=df[\"on_time\"])"
   ]
  },
  {
   "cell_type": "code",
   "execution_count": null,
   "metadata": {},
   "outputs": [],
   "source": [
    "# Checking the shape to ensure data was successfully and correctly split\n",
    "# according to the train_size and test_size parameters\n",
    "\n",
    "print(\n",
    "    f\"{X_train.shape = }\", f\"{y_train.shape = }\",\n",
    "    f\"\\n{X_val.shape = }\", f\"{y_val.shape = }\",\n",
    "    f\"\\n{X_test.shape = }\", f\"{y_test.shape = }\",\n",
    ")"
   ]
  },
  {
   "cell_type": "code",
   "execution_count": null,
   "metadata": {},
   "outputs": [],
   "source": [
    "# Now we will train our model using deep learning neural networks\n",
    "\n",
    "# Building out the neural network\n",
    "model1 = tf.keras.Sequential()\n",
    "model1.add(tf.keras.layers.Dense(10, activation=\"relu\"))\n",
    "model1.add(tf.keras.layers.Dense(1))\n",
    "model1.add(tf.keras.layers.Dense(10, activation=\"relu\"))\n",
    "model1.add(tf.keras.layers.Dense(1))\n",
    "model1.add(tf.keras.layers.Dense(10, activation=\"tanh\"))\n",
    "model1.add(tf.keras.layers.Dense(1))\n",
    "\n",
    "# Compiling the model to later fit it\n",
    "learning_rate = 0.1\n",
    "optimizer = tf.keras.optimizers.Adam(learning_rate=learning_rate)\n",
    "\n",
    "model1.compile(\n",
    "    loss = \"mse\",\n",
    "    optimizer=optimizer,\n",
    "    metrics = [tf.keras.losses.mean_squared_error]\n",
    ")\n",
    "\n",
    "es = tf.keras.callbacks.EarlyStopping(monitor=\"loss\")\n",
    "\n",
    "# Fitting the model with training and validation data\n",
    "history = model1.fit(X_train, y_train, epochs=100, batch_size=50, validation_data=(X_val, y_val), verbose=2)"
   ]
  },
  {
   "cell_type": "code",
   "execution_count": null,
   "metadata": {},
   "outputs": [],
   "source": [
    "# Evaluate the model on the test data\n",
    "test_loss, test_accuracy = model1.evaluate(X_test, y_test)\n",
    "print(\"Test Loss:\", test_loss)\n",
    "print(\"Test Accuracy:\", test_accuracy)"
   ]
  }
 ],
 "metadata": {
  "kernelspec": {
   "display_name": "shipium_venv",
   "language": "python",
   "name": "python3"
  },
  "language_info": {
   "codemirror_mode": {
    "name": "ipython",
    "version": 3
   },
   "file_extension": ".py",
   "mimetype": "text/x-python",
   "name": "python",
   "nbconvert_exporter": "python",
   "pygments_lexer": "ipython3",
   "version": "3.11.8"
  }
 },
 "nbformat": 4,
 "nbformat_minor": 2
}
