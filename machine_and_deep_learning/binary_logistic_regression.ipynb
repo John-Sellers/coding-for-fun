{
  "cells": [
    {
      "cell_type": "code",
      "execution_count": null,
      "metadata": {
        "id": "04qy71C3KMPC"
      },
      "outputs": [],
      "source": [
        "import pandas as pd\n",
        "import numpy as np\n",
        "\n",
        "from sklearn.model_selection import train_test_split\n",
        "from sklearn.preprocessing import StandardScaler, LabelEncoder, MinMaxScaler\n",
        "from sklearn.linear_model import LinearRegression\n",
        "from sklearn.metrics import r2_score, mean_squared_error, accuracy_score, classification_report, confusion_matrix\n",
        "from sklearn.linear_model import LogisticRegression"
      ]
    },
    {
      "cell_type": "code",
      "execution_count": null,
      "metadata": {
        "colab": {
          "base_uri": "https://localhost:8080/",
          "height": 444
        },
        "id": "tmd3MgOFKVfV",
        "outputId": "b0870cb4-e73b-4c13-c94a-87d2e645f110"
      },
      "outputs": [],
      "source": [
        "# Step 1: Load data\n",
        "df = pd.read_csv('/content/shipping.csv')\n",
        "df"
      ]
    },
    {
      "cell_type": "code",
      "execution_count": null,
      "metadata": {
        "colab": {
          "base_uri": "https://localhost:8080/"
        },
        "id": "g-JgY8_EKY3t",
        "outputId": "db9decf6-4f94-4ff2-c00c-f1bf5da8a5a1"
      },
      "outputs": [],
      "source": [
        "# Step 2: Handle missing values (if any)\n",
        "df.info(memory_usage='deep')"
      ]
    },
    {
      "cell_type": "code",
      "execution_count": null,
      "metadata": {
        "id": "FYfmEa6ZLhdc"
      },
      "outputs": [],
      "source": [
        "# Renaming the Reached.on.Time_Y.N to be more readable\n",
        "df.rename(columns={\"Reached.on.Time_Y.N\":\"on_time\"}, inplace=True)\n",
        "\n",
        "# Lowercase all column names\n",
        "df = df.rename(columns={col: col.lower() for col in df.columns})"
      ]
    },
    {
      "cell_type": "code",
      "execution_count": null,
      "metadata": {
        "colab": {
          "base_uri": "https://localhost:8080/"
        },
        "id": "KvrwcIpaNdFC",
        "outputId": "3c0d57cd-14c3-43d1-c49d-cb6b0ad170dd"
      },
      "outputs": [],
      "source": [
        "for column in df.columns:\n",
        "    unique_values = df[column].nunique()\n",
        "    print(f\"Unique values in {column}: {unique_values}\")"
      ]
    },
    {
      "cell_type": "code",
      "execution_count": null,
      "metadata": {
        "colab": {
          "base_uri": "https://localhost:8080/",
          "height": 300
        },
        "id": "VVQWFLLnLPXr",
        "outputId": "4f9fc75a-9d34-4357-bb22-831309418b81"
      },
      "outputs": [],
      "source": [
        "df.describe().T"
      ]
    },
    {
      "cell_type": "code",
      "execution_count": null,
      "metadata": {
        "id": "VUQ0m8SMMHdK"
      },
      "outputs": [],
      "source": [
        "# Step 3: Normalize numerical features\n",
        "scaler = MinMaxScaler()\n",
        "numerical_features = df.select_dtypes(include=np.number).columns\n",
        "df[numerical_features] = scaler.fit_transform(df[numerical_features])"
      ]
    },
    {
      "cell_type": "code",
      "execution_count": null,
      "metadata": {
        "id": "gsjitCmFMzhl"
      },
      "outputs": [],
      "source": [
        "# Step 4: Label encode non-numerical features\n",
        "encoder = LabelEncoder()\n",
        "categorical_feature = df.select_dtypes(exclude=np.number).columns\n",
        "\n",
        "for col in categorical_feature:\n",
        "  df[col] = encoder.fit_transform(df[col])"
      ]
    },
    {
      "cell_type": "code",
      "execution_count": null,
      "metadata": {
        "id": "gFZ5J2BVOfPW"
      },
      "outputs": [],
      "source": [
        "# Step 5: Split the data\n",
        "X = df.drop('on_time', axis=1)\n",
        "y = df['on_time']\n",
        "X_train, X_rem, y_train, y_rem = train_test_split(X, y, test_size=0.3, random_state=42)\n",
        "X_val, X_test, y_val, y_test = train_test_split(X_rem, y_rem, test_size=0.5, random_state=42)"
      ]
    },
    {
      "cell_type": "code",
      "execution_count": null,
      "metadata": {
        "colab": {
          "base_uri": "https://localhost:8080/"
        },
        "id": "9LMRItlBOodA",
        "outputId": "fe9f8864-7c7a-4da0-ffa3-adb6a40910b3"
      },
      "outputs": [],
      "source": [
        "print(\n",
        "    f'X_train: {X_train.shape = }'\n",
        "    f'\\nX_val: {X_val.shape = }'\n",
        "    f'\\nX_test: {X_test.shape = }'\n",
        "    f'\\ny_train: {y_train.shape = }'\n",
        "    f'\\ny_val: {y_val.shape = }'\n",
        "    f'\\ny_test: {y_test.shape = }'\n",
        ")"
      ]
    },
    {
      "cell_type": "code",
      "execution_count": null,
      "metadata": {
        "colab": {
          "base_uri": "https://localhost:8080/",
          "height": 75
        },
        "id": "h7GtYs-5PiW6",
        "outputId": "8bc56a5f-7a7b-42e9-ca3b-725c16ad2115"
      },
      "outputs": [],
      "source": [
        "# Step 6: Build the linear regression model\n",
        "model = LogisticRegression()\n",
        "model.fit(X_train, y_train)"
      ]
    },
    {
      "cell_type": "code",
      "execution_count": null,
      "metadata": {
        "id": "98CBcJw3PsU5"
      },
      "outputs": [],
      "source": [
        "# Make predictions\n",
        "y_pred = model.predict(X_test)"
      ]
    },
    {
      "cell_type": "code",
      "execution_count": null,
      "metadata": {
        "colab": {
          "base_uri": "https://localhost:8080/"
        },
        "id": "3_J6_agjPw1o",
        "outputId": "ee35134a-8624-4ef7-f54e-c7a7242f72cd"
      },
      "outputs": [],
      "source": [
        "# Evaluate accuracy\n",
        "accuracy = accuracy_score(y_test, y_pred)\n",
        "print(f'Accuracy: {accuracy}')"
      ]
    },
    {
      "cell_type": "code",
      "execution_count": null,
      "metadata": {
        "colab": {
          "base_uri": "https://localhost:8080/"
        },
        "id": "z4nuYCxyP2IF",
        "outputId": "e7a2b4b0-88ce-4fbc-a914-5d14c0cccfcc"
      },
      "outputs": [],
      "source": [
        "# Confusion matrix\n",
        "conf_matrix = confusion_matrix(y_test, y_pred)\n",
        "print('Confusion Matrix:')\n",
        "print(conf_matrix)"
      ]
    },
    {
      "cell_type": "code",
      "execution_count": null,
      "metadata": {
        "colab": {
          "base_uri": "https://localhost:8080/"
        },
        "id": "aqj_GwyfKI9H",
        "outputId": "0684ee19-3674-4bd3-8011-0d66bcfba376"
      },
      "outputs": [],
      "source": [
        "# Classification report\n",
        "class_report = classification_report(y_test, y_pred)\n",
        "print('Classification Report:')\n",
        "print(class_report)"
      ]
    }
  ],
  "metadata": {
    "colab": {
      "authorship_tag": "ABX9TyMDNX/n7DkdUvkYZCwFRyPP",
      "provenance": []
    },
    "kernelspec": {
      "display_name": "Python 3",
      "name": "python3"
    },
    "language_info": {
      "name": "python"
    }
  },
  "nbformat": 4,
  "nbformat_minor": 0
}
